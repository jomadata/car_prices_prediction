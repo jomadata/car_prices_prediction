{
 "cells": [
  {
   "cell_type": "code",
   "execution_count": 1,
   "id": "1c570529",
   "metadata": {},
   "outputs": [],
   "source": [
    "import requests\n",
    "from bs4 import BeautifulSoup\n",
    "from fake_useragent import UserAgent"
   ]
  },
  {
   "cell_type": "code",
   "execution_count": 2,
   "id": "29f72050",
   "metadata": {},
   "outputs": [],
   "source": [
    "#NEW/USED\n",
    "n_u = ['new-cars/', '']"
   ]
  },
  {
   "cell_type": "code",
   "execution_count": 3,
   "id": "d97e2bb3",
   "metadata": {},
   "outputs": [],
   "source": [
    "# creating list of car manufacturers\n",
    "#list copied from website and just copy pasted to Excel and coppied from there\n",
    "list = 'Acura\tAlfa Romeo\tAMC\tAston Martin\tAudi\tBentley\tBMW\tBugatti\tBuick\tCadillac\tChevrolet\tChrysler\tDaewoo\tDatsun\tDeLorean\tDodge\tEagle\tFerrari\tFIAT\tFisker\tFord\tFreightliner\tGenesis\tGeo\tGMC\tHonda\tHUMMER\tHyundai\tINFINITI\tIsuzu\tJaguar\tJeep\tKarma\tKia\tLamborghini\tLand Rover\tLexus\tLincoln\tLotus\tLucid\tMaserati\tMaybach\tMAZDA\tMcLaren\tMercedes-Benz\tMercury\tMINI\tMitsubishi\tNissan\tOldsmobile\tPlymouth\tPolestar\tPontiac\tPorsche\tRAM\tRivian\tRolls-Royce\tSaab\tSaturn\tScion\tsmart\tSRT\tSubaru\tSuzuki\tTesla\tToyota\tVolkswagen\tVolvo\tYugo'\n",
    "manuf_list = []\n",
    "manuf = []\n",
    "\n",
    "for letter in list:\n",
    "    if letter != '\t':\n",
    "        if letter == ' ':\n",
    "            letter='-'\n",
    "        manuf.append(letter.lower())\n",
    "    else:\n",
    "        manuf_list.append(''.join(manuf))\n",
    "        manuf = []\n",
    "manuf_list = [a+'/' for a in manuf_list]\n"
   ]
  },
  {
   "cell_type": "code",
   "execution_count": 4,
   "id": "c869f21d",
   "metadata": {},
   "outputs": [],
   "source": [
    "#THE URL\n",
    "# Note: taking in only the latest 1000 added ads\n",
    "    \n",
    "core_link = 'https://www.autotrader.com/cars-for-sale/'\n",
    "#then comes either NEW or USED_CARS\n",
    "#then comes the make manuf_list\n",
    "\n",
    "end_link = 'plainsboro-nj-08536?dma=&searchRadius=0&location=&marketExtension=include&isNewSearch=false&showAccelerateBanner=false&sortBy=datelistedDESC&numRecords=25'\n",
    "pagination = '&firstRecord='\n",
    "#then comes the pagination\n",
    "#the autotrader utilizes the listing from a certain point on, and shows 25 cars from certain car number\n",
    "pages = [a for a in range(1000) if a%25 == 0]"
   ]
  },
  {
   "cell_type": "code",
   "execution_count": 5,
   "id": "b987ed09",
   "metadata": {},
   "outputs": [],
   "source": [
    "#Generating the initial list of links to go through\n",
    "link_list = []\n",
    "for car in n_u:\n",
    "    for make in manuf_list:\n",
    "        for page in pages:\n",
    "            url = core_link + car + make + end_link + pagination + str(page)\n",
    "            link_list.append(url)"
   ]
  },
  {
   "cell_type": "code",
   "execution_count": 7,
   "id": "98ceab8e",
   "metadata": {},
   "outputs": [
    {
     "name": "stdout",
     "output_type": "stream",
     "text": [
      "https://www.autotrader.com/cars-for-sale/new-cars/acura/plainsboro-nj-08536?dma=&searchRadius=0&location=&marketExtension=include&isNewSearch=false&showAccelerateBanner=false&sortBy=datelistedDESC&numRecords=25&firstRecord=25\n"
     ]
    }
   ],
   "source": [
    "#getting the actual list of cars\n",
    "#headers = {\"User-Agent\":\"Mozilla/5.0 (X11; U; Linux i686) Gecko/20071127 Firefox/2.0.0.11\"}\n",
    "\n",
    "ua = UserAgent()\n",
    "header = {\"User-Agent\": str(ua.chrome)}\n",
    "\n",
    "#the loop is in place for further work expantion,\n",
    "#in the mean time it utilizes only one link from the list\n",
    "for url in [link_list[1]]:\n",
    "    print(url)\n",
    "    response = requests.get(url, headers=header)\n",
    "    #print(response.text)\n",
    "    soup = BeautifulSoup(response.text, 'lxml')"
   ]
  },
  {
   "cell_type": "code",
   "execution_count": 8,
   "id": "489d4c18",
   "metadata": {},
   "outputs": [
    {
     "data": {
      "text/plain": [
       "<!DOCTYPE html>\n",
       "<html lang=\"en\" xml:lang=\"en\" xmlns=\"http://www.w3.org/1999/xhtml\">\n",
       "<head>\n",
       "<title>Autotrader - page unavailable</title>\n",
       "<meta content=\"width=device-width, initial-scale=1\" name=\"viewport\"/>\n",
       "<link crossorigin=\"anonymous\" href=\"https://maxcdn.bootstrapcdn.com/bootstrap/3.3.6/css/bootstrap.min.css\" integrity=\"sha384-1q8mTJOASx8j1Au+a5WDVnPi2lkFfwwEAa8hDDdjZlpLegxhjVME1fgjWPGmkzs7\" rel=\"stylesheet\"/>\n",
       "<link href=\"https://fonts.googleapis.com/css?family=Roboto:400,700\" rel=\"stylesheet\" type=\"text/css\"/>\n",
       "<link href=\"/akamai-block/block-images/css/app.css\" rel=\"stylesheet\" type=\"text/css\"/>\n",
       "<style type=\"text/css\">\n",
       "</style>\n",
       "</head>\n",
       "<body>\n",
       "<div class=\"atc-header-background\">\n",
       "<div class=\"container\">\n",
       "<img alt=\"Buy New or Used Cars at Autotrader\" class=\"autotrader-logo\" onerror=\"this.onerror=null;this.src='./block-images/autotrader-logo-blue.png';\" src=\"/akamai-block/block-images/autotrader-logo-blue.png\"/>\n",
       "</div>\n",
       "</div>\n",
       "<div id=\"atcui-navigation-container-wrapper\"></div>\n",
       "<div class=\"body-content container\">\n",
       "<img alt=\"\" onerror=\"this.onerror=null;this.src='./block-images/error-message-icon.png';\" src=\"/akamai-block/block-images/error-message-icon.png\"/>\n",
       "<h1>We're sorry for any inconvenience, but the site is currently unavailable.</h1>\n",
       "<div id=\"message\">Please <a href=\"#\">contact our support team</a> for help.</div>\n",
       "<div id=\"contactform\">\n",
       "<div class=\"col-md-4 col-md-offset-4\">\n",
       "<form data-testcaptcha=\"g-recaptcha-response\" data-toggle=\"validator\" id=\"atcform\" role=\"form\">\n",
       "<div class=\"form-group\">\n",
       "<input class=\"form-control\" id=\"inputName\" name=\"name\" placeholder=\"Your Name\" type=\"text\"/>\n",
       "</div>\n",
       "<div class=\"form-group\">\n",
       "<input class=\"form-control\" data-error=\"Email address is invalid\" id=\"inputEmail\" name=\"email\" pattern=\"[a-z0-9._%+-]+@[a-z0-9.-]+\\.[a-z]{2,63}$\" placeholder=\"Email\" required=\"\" type=\"email\"/>\n",
       "<div class=\"help-block with-errors\"></div>\n",
       "</div>\n",
       "<div class=\"form-group\">\n",
       "<textarea class=\"form-control\" id=\"inputComments\" name=\"comments\" placeholder=\"Comments\" rows=\"3\"></textarea>\n",
       "</div>\n",
       "<div class=\"form-group\">\n",
       "<div class=\"capatcha\"><div class=\"g-recaptcha\" data-callback=\"onCapPass\" id=\"botbuster\"></div></div>\n",
       "</div>\n",
       "<div class=\"form-group\">\n",
       "<button class=\"btn btn-primary\" id=\"formsubmitbtn\" type=\"submit\">Submit</button>\n",
       "</div>\n",
       "</form>\n",
       "</div>\n",
       "</div>\n",
       "<div id=\"successmessage\" style=\"display: none;\">\n",
       "<div class=\"row\">\n",
       "<div class=\"alert alert-success\" role=\"alert\"> <strong>Thank you!</strong> Our engineers will investigate your issue. </div>\n",
       "</div>\n",
       "</div>\n",
       "<div id=\"incidentid\">\n",
       "<div>\n",
       "<p>\n",
       "<span>\n",
       "                  Incident Number: 18.6efb3b17.1655646963.1d84afdd\n",
       "                </span>\n",
       "</p><p>\n",
       "</p></div>\n",
       "</div>\n",
       "</div>\n",
       "<script src=\"https://ajax.googleapis.com/ajax/libs/jquery/2.2.0/jquery.min.js\"></script>\n",
       "<script crossorigin=\"anonymous\" integrity=\"sha384-0mSbJDEHialfmuBBQP6A4Qrprq5OVfW37PRR3j5ELqxss1yVqOtnepnHVP9aJ7xS\" src=\"https://maxcdn.bootstrapcdn.com/bootstrap/3.3.6/js/bootstrap.min.js\"></script>\n",
       "<script async=\"\" defer=\"\" src=\"https://www.google.com/recaptcha/api.js?render=explicit\"></script>\n",
       "<script src=\"/akamai-block/block-images/js/validator.js\"></script>\n",
       "<script src=\"/akamai-block/block-images/js/jquery.serialize-object.min.js\"></script>\n",
       "<script src=\"/akamai-block/block-images/js/app.js\"></script>\n",
       "</body>\n",
       "</html>"
      ]
     },
     "execution_count": 8,
     "metadata": {},
     "output_type": "execute_result"
    }
   ],
   "source": [
    "soup"
   ]
  }
 ],
 "metadata": {
  "kernelspec": {
   "display_name": "Python 3",
   "language": "python",
   "name": "python3"
  },
  "language_info": {
   "codemirror_mode": {
    "name": "ipython",
    "version": 3
   },
   "file_extension": ".py",
   "mimetype": "text/x-python",
   "name": "python",
   "nbconvert_exporter": "python",
   "pygments_lexer": "ipython3",
   "version": "3.8.8"
  }
 },
 "nbformat": 4,
 "nbformat_minor": 5
}
